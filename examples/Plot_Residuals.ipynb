{
 "cells": [
  {
   "cell_type": "code",
   "execution_count": 1,
   "metadata": {
    "collapsed": false
   },
   "outputs": [
    {
     "name": "stdout",
     "output_type": "stream",
     "text": [
      "Populating the interactive namespace from numpy and matplotlib\n"
     ]
    }
   ],
   "source": [
    "%pylab inline"
   ]
  },
  {
   "cell_type": "code",
   "execution_count": 2,
   "metadata": {
    "collapsed": true
   },
   "outputs": [],
   "source": [
    "import seaborn as sns"
   ]
  },
  {
   "cell_type": "code",
   "execution_count": 3,
   "metadata": {
    "collapsed": true
   },
   "outputs": [],
   "source": [
    "sns.set_context('paper', font_scale=2.2)\n",
    "sns.set_style('ticks')"
   ]
  },
  {
   "cell_type": "code",
   "execution_count": 4,
   "metadata": {
    "collapsed": true
   },
   "outputs": [],
   "source": [
    "log_path = './yeast_radially_symmetric_nutrient_eating_rate/log.txt'"
   ]
  },
  {
   "cell_type": "code",
   "execution_count": 5,
   "metadata": {
    "collapsed": true
   },
   "outputs": [],
   "source": [
    "import re"
   ]
  },
  {
   "cell_type": "code",
   "execution_count": 6,
   "metadata": {
    "collapsed": false
   },
   "outputs": [],
   "source": [
    "lookup_dict = {}\n",
    "subgroup_dict = {}\n",
    "\n",
    "# Variables to plot\n",
    "lookup_dict['c'] = r'Solving for c, Initial residual = (\\S*),'\n",
    "\n",
    "lookup_dict['Ux'] = r'Solving for Ux, Initial residual = (\\S*),'\n",
    "lookup_dict['Uy'] = r'Solving for Uy, Initial residual = (\\S*),'\n",
    "lookup_dict['Uz'] = r'Solving for Uz, Initial residual = (\\S*),'\n",
    "\n",
    "lookup_dict['p_rgh'] = r'Solving for p_rgh, Initial residual = (\\S*),'\n",
    "\n",
    "lookup_dict['continuity'] = r'time step continuity errors : sum local = (\\S*), global = (\\S*), cumulative = (\\S*)'\n",
    "subgroup_dict['continuity'] = ['local', 'global', 'cumulative']\n",
    "\n",
    "lookup_dict['courant'] = r'Courant Number mean: (\\S*), max: (\\S*)'\n",
    "subgroup_dict['courant'] = ['mean', 'max']\n",
    "\n",
    "# Important variables\n",
    "global_dict = {}\n",
    "\n",
    "global_dict['stokes_str'] = '^Finished stokes iteration (\\S*)'\n",
    "global_dict['time_str'] = '^Time = (\\S*)'"
   ]
  },
  {
   "cell_type": "code",
   "execution_count": 34,
   "metadata": {
    "collapsed": false
   },
   "outputs": [],
   "source": [
    "# Create the corresponding lookup table\n",
    "lookup_table = []\n",
    "\n",
    "total_elapsed_iter = 0\n",
    "cur_stokes_iter = 0\n",
    "cur_time = 0.0\n",
    "with open(log_path) as fi:\n",
    "    for line in fi:\n",
    "        for key, cur_lookup in lookup_dict.iteritems():\n",
    "            result = re.search(cur_lookup, line)\n",
    "            if result is not None:\n",
    "                for count, cur_value in enumerate(result.groups()):\n",
    "                    if len(result.groups()) > 1:\n",
    "                        key_str = key + '_' + subgroup_dict[key][count]\n",
    "                    else:\n",
    "                        key_str = key\n",
    "                    lookup_table.append([key_str, cur_time, total_elapsed_iter, cur_stokes_iter, float(cur_value)])\n",
    "        \n",
    "        # Check if the line is important for global reasons\n",
    "        for key, cur_lookup in global_dict.iteritems():\n",
    "            result = re.search(cur_lookup, line)\n",
    "            if result is not None:\n",
    "                if key is 'stokes_str':\n",
    "                    total_elapsed_iter += 1\n",
    "                    cur_stokes_iter = int(result.groups()[0])\n",
    "                if key is 'time_str':\n",
    "                    cur_time = float(result.groups()[0])                        "
   ]
  },
  {
   "cell_type": "code",
   "execution_count": 35,
   "metadata": {
    "collapsed": true
   },
   "outputs": [],
   "source": [
    "import pandas as pd"
   ]
  },
  {
   "cell_type": "code",
   "execution_count": 36,
   "metadata": {
    "collapsed": false
   },
   "outputs": [],
   "source": [
    "df = pd.DataFrame(data = lookup_table, columns=['key', 'time', 'total_iter', 'cur_stokes_iter', 'value'])"
   ]
  },
  {
   "cell_type": "code",
   "execution_count": 37,
   "metadata": {
    "collapsed": false,
    "scrolled": true
   },
   "outputs": [
    {
     "data": {
      "text/plain": [
       "<matplotlib.legend.Legend at 0x7fc60f3b47d0>"
      ]
     },
     "execution_count": 37,
     "metadata": {},
     "output_type": "execute_result"
    },
    {
     "data": {
      "image/png": "[encoded data removed]",
      "text/plain": [
       "<matplotlib.figure.Figure at 0x7fc60fbcd850>"
      ]
     },
     "metadata": {},
     "output_type": "display_data"
    }
   ],
   "source": [
    "residuals_to_plot = ['Ux', 'Uy', 'Uz', 'p_rgh']\n",
    "\n",
    "for name, cur_data in df.groupby('key'):\n",
    "    if name in residuals_to_plot:\n",
    "        plt.semilogy(cur_data['total_iter'], cur_data['value'], label=name)\n",
    "\n",
    "plt.legend(bbox_to_anchor=(1.4, 1.0))"
   ]
  },
  {
   "cell_type": "markdown",
   "metadata": {},
   "source": [
    "Ok. Very interesting. Let's try to tweak this so that it's better behaved."
   ]
  },
  {
   "cell_type": "code",
   "execution_count": null,
   "metadata": {
    "collapsed": true
   },
   "outputs": [],
   "source": []
  },
  {
   "cell_type": "code",
   "execution_count": null,
   "metadata": {
    "collapsed": true
   },
   "outputs": [],
   "source": []
  }
 ],
 "metadata": {
  "kernelspec": {
   "display_name": "Python 2",
   "language": "python",
   "name": "python2"
  },
  "language_info": {
   "codemirror_mode": {
    "name": "ipython",
    "version": 2
   },
   "file_extension": ".py",
   "mimetype": "text/x-python",
   "name": "python",
   "nbconvert_exporter": "python",
   "pygments_lexer": "ipython2",
   "version": "2.7.11"
  }
 },
 "nbformat": 4,
 "nbformat_minor": 0
}
